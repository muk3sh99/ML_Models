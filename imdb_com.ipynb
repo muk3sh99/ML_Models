{
 "cells": [
  {
   "cell_type": "markdown",
   "id": "01cf38d4-ad19-46b1-a840-f1bee74783d7",
   "metadata": {},
   "source": [
    "### IMDB Sentiment Analysis"
   ]
  },
  {
   "cell_type": "markdown",
   "id": "cfc09b07-40be-44c8-b116-0069f11a40cf",
   "metadata": {},
   "source": [
    "#### 1 Business Problem:\n",
    "##### 1.1 Description\n",
    "IMDb reviews offer a rich tapestry of opinions on films. Positive reviews extol a movie's virtues, highlighting stellar performances, captivating storylines, and stunning visuals. Conversely, negative reviews criticize plot holes, poor acting, or technical flaws. These subjective assessments collectively shape a film's reputation, influencing audience expectations and decisions.\n",
    "\n",
    "> Credits: Gemini"
   ]
  },
  {
   "cell_type": "markdown",
   "id": "f7f22ec6-ef2a-4a87-9b19-2ff89cdf716e",
   "metadata": {},
   "source": [
    "\\_\\_\\_Problem Statement\\_\\_\\_\n",
    "- Given a review, indentify its polarity.\n",
    "- This could be useful for instantly determining whether a review is <b> positive </b> or <b> negative </b> without requiring manual reading.."
   ]
  },
  {
   "cell_type": "markdown",
   "id": "396b2cec-385b-449a-99b8-cdaaa6605332",
   "metadata": {},
   "source": [
    "##### 1.2 Real World/Business Objectives and Constraints\n",
    "- The cost of misclassification can be high as it reduces the trustworthiness of the website.\n",
    "- No strict latency concerns."
   ]
  },
  {
   "cell_type": "markdown",
   "id": "7614868c-a265-4f2d-9a6b-0c75ea5695e3",
   "metadata": {},
   "source": [
    "### 2 Machine Learning Problem\n",
    "#### 2.1 Data\n",
    "##### 2.1.1 Data Overview\n",
    "- Data will be in a file <b> IMDB Dataset.csv </b>\n",
    "- Contains 2 columns <b> review </b> and <b> sentiment </b>.\n",
    "- Size of csv file: 64 MB\n",
    "- Number of rows in dataset; 50,000"
   ]
  },
  {
   "cell_type": "markdown",
   "id": "fd465e16-ce6c-4b35-b664-f28e7f04e98c",
   "metadata": {},
   "source": [
    "##### 2.1.2 Example Data point\n",
    "'review','sentiment' </br>\n",
    "Phil the Alien is one of those quirky films where the humour is based around the oddness of everything rather than actual punchlines.<br /><br />At first it was very odd and pretty funny but as the movie progressed I didn't find the jokes or oddness funny anymore.<br /><br />Its a low budget film (thats never a problem in itself), there were some pretty interesting characters, but eventually I just lost interest.<br /><br />I imagine this film would appeal to a stoner who is currently partaking.<br /><br />For something similar but better try \"Brother from another planet\",'negative'"
   ]
  },
  {
   "cell_type": "markdown",
   "id": "496b1cda-0b12-41a1-a3e3-297b21e41c77",
   "metadata": {},
   "source": [
    "#### 2.2 Mapping the real world problem to an ML problem\n",
    "##### 2.2.1 Type of Machine Learning Problem\n",
    "- It is a binary classification problem, for a given review we have to determine its sentiment i.e either Positive Or Negative."
   ]
  },
  {
   "cell_type": "markdown",
   "id": "9253d04f-4628-47c1-9685-eb2145ca37c1",
   "metadata": {},
   "source": [
    "##### 2.2.2 Performance Metric\n",
    "###### Metric(s)\n",
    "- log-loss\n",
    "- Binary Confusion Matrix"
   ]
  },
  {
   "cell_type": "markdown",
   "id": "82d8bb22-fb1b-4350-882f-061e89ac1440",
   "metadata": {},
   "source": [
    "#### 2.3 Train and Test Construction\n",
    "- We build train and test by randomly splitting in the ratio of 70:30 or 80:20.\n",
    "- Whatever we choose as we have sufficient points to work with."
   ]
  },
  {
   "cell_type": "markdown",
   "id": "388af1f7-9caa-42fa-9cb9-5b3ff7c72327",
   "metadata": {},
   "source": [
    "#### 3 Exploratory Data Analysis"
   ]
  },
  {
   "cell_type": "code",
   "execution_count": 1,
   "id": "58a86f91-89df-4c3c-b440-740ef890cdff",
   "metadata": {},
   "outputs": [],
   "source": [
    "import numpy as np\n",
    "import pandas as pd\n",
    "import seaborn as sns\n",
    "import matplotlib.pyplot as plt\n",
    "import os\n",
    "import re\n",
    "from bs4 import BeautifulSoup"
   ]
  },
  {
   "cell_type": "markdown",
   "id": "d591a787-e630-40b6-8c11-ffb507b48509",
   "metadata": {},
   "source": [
    "##### 3.1 Reading data and basic stats"
   ]
  },
  {
   "cell_type": "code",
   "execution_count": 2,
   "id": "72ad6cf7-0263-407c-b9e0-e9eff2d8e223",
   "metadata": {},
   "outputs": [
    {
     "name": "stdout",
     "output_type": "stream",
     "text": [
      "Number of data points:  50000\n"
     ]
    }
   ],
   "source": [
    "df = pd.read_csv('IMDB Dataset.csv')\n",
    "print(\"Number of data points: \",df.shape[0])"
   ]
  },
  {
   "cell_type": "code",
   "execution_count": 3,
   "id": "db3f9552-fdec-477d-96f3-f645af7aa98d",
   "metadata": {},
   "outputs": [
    {
     "data": {
      "text/html": [
       "<div>\n",
       "<style scoped>\n",
       "    .dataframe tbody tr th:only-of-type {\n",
       "        vertical-align: middle;\n",
       "    }\n",
       "\n",
       "    .dataframe tbody tr th {\n",
       "        vertical-align: top;\n",
       "    }\n",
       "\n",
       "    .dataframe thead th {\n",
       "        text-align: right;\n",
       "    }\n",
       "</style>\n",
       "<table border=\"1\" class=\"dataframe\">\n",
       "  <thead>\n",
       "    <tr style=\"text-align: right;\">\n",
       "      <th></th>\n",
       "      <th>review</th>\n",
       "      <th>sentiment</th>\n",
       "    </tr>\n",
       "  </thead>\n",
       "  <tbody>\n",
       "    <tr>\n",
       "      <th>0</th>\n",
       "      <td>One of the other reviewers has mentioned that ...</td>\n",
       "      <td>positive</td>\n",
       "    </tr>\n",
       "    <tr>\n",
       "      <th>1</th>\n",
       "      <td>A wonderful little production. &lt;br /&gt;&lt;br /&gt;The...</td>\n",
       "      <td>positive</td>\n",
       "    </tr>\n",
       "    <tr>\n",
       "      <th>2</th>\n",
       "      <td>I thought this was a wonderful way to spend ti...</td>\n",
       "      <td>positive</td>\n",
       "    </tr>\n",
       "    <tr>\n",
       "      <th>3</th>\n",
       "      <td>Basically there's a family where a little boy ...</td>\n",
       "      <td>negative</td>\n",
       "    </tr>\n",
       "    <tr>\n",
       "      <th>4</th>\n",
       "      <td>Petter Mattei's \"Love in the Time of Money\" is...</td>\n",
       "      <td>positive</td>\n",
       "    </tr>\n",
       "  </tbody>\n",
       "</table>\n",
       "</div>"
      ],
      "text/plain": [
       "                                              review sentiment\n",
       "0  One of the other reviewers has mentioned that ...  positive\n",
       "1  A wonderful little production. <br /><br />The...  positive\n",
       "2  I thought this was a wonderful way to spend ti...  positive\n",
       "3  Basically there's a family where a little boy ...  negative\n",
       "4  Petter Mattei's \"Love in the Time of Money\" is...  positive"
      ]
     },
     "execution_count": 3,
     "metadata": {},
     "output_type": "execute_result"
    }
   ],
   "source": [
    "df.head()"
   ]
  },
  {
   "cell_type": "markdown",
   "id": "f743c287-3e51-42f5-abf1-e304e8b8d5fc",
   "metadata": {},
   "source": [
    "##### 3.2 Check for null values\n",
    "- (Q): Why we remove null values?\n",
    "- Imagine you're building a tower with blocks. If some blocks are missing (null values), the tower will be wobbly and might fall. So, we remove the missing blocks to make a strong tower.\n",
    "- Source: Gemini"
   ]
  },
  {
   "cell_type": "code",
   "execution_count": 4,
   "id": "6f053dfc-b8c3-457e-aaf1-d9af9e21173b",
   "metadata": {},
   "outputs": [
    {
     "data": {
      "text/plain": [
       "review       0\n",
       "sentiment    0\n",
       "dtype: int64"
      ]
     },
     "execution_count": 4,
     "metadata": {},
     "output_type": "execute_result"
    }
   ],
   "source": [
    "df.isnull().sum()"
   ]
  },
  {
   "cell_type": "markdown",
   "id": "9295a136-5e50-41c2-acc4-baa694a35a50",
   "metadata": {},
   "source": [
    "- We have no null data in our review."
   ]
  },
  {
   "cell_type": "markdown",
   "id": "776fc4be-59fe-4d26-a45c-fa66f0e889d2",
   "metadata": {},
   "source": [
    "##### 3.3 Check for duplicates and drop them\n",
    "- Imagine you have a pile of cards with the same picture. Keeping all the same cards doesn't give you new information, right? So, we remove the extra cards to keep things interesting and fair.\n",
    "\n",
    "\n"
   ]
  },
  {
   "cell_type": "code",
   "execution_count": 5,
   "id": "baf70a01-4afc-4777-892a-bb0fdf9c6877",
   "metadata": {},
   "outputs": [
    {
     "data": {
      "text/plain": [
       "(49582, 2)"
      ]
     },
     "execution_count": 5,
     "metadata": {},
     "output_type": "execute_result"
    }
   ],
   "source": [
    "df.drop_duplicates(subset={'review','sentiment'},keep='first',inplace=True)\n",
    "df.shape"
   ]
  },
  {
   "cell_type": "markdown",
   "id": "774ff6fa-3e1a-47e9-8ff6-bccf2b91bd2d",
   "metadata": {},
   "source": [
    "- We have 49582 rows of data remains after removing duplicates."
   ]
  },
  {
   "cell_type": "markdown",
   "id": "6d0d6a32-d375-46f9-a064-6bc8ddda3c09",
   "metadata": {},
   "source": [
    "##### 3.4 Data Balance or Imbalance\n",
    "- Data balance means equal amounts of data for each category. Imbalance means one category has much more data than others. Imbalanced data can trick models into favoring the larger group."
   ]
  },
  {
   "cell_type": "code",
   "execution_count": 6,
   "id": "f1da1752-73c7-4c4b-b3a2-6418689e1c0b",
   "metadata": {},
   "outputs": [
    {
     "data": {
      "text/plain": [
       "sentiment\n",
       "positive    24884\n",
       "negative    24698\n",
       "Name: count, dtype: int64"
      ]
     },
     "execution_count": 6,
     "metadata": {},
     "output_type": "execute_result"
    }
   ],
   "source": [
    "df['sentiment'].value_counts()"
   ]
  },
  {
   "cell_type": "markdown",
   "id": "64db9d0f-7c0b-4874-9ad4-60a1c8829bde",
   "metadata": {},
   "source": [
    "- We have  balanced dataset.\n",
    "- A balanced dataset has equal numbers of data points for each category. This helps models learn fairly without being biased towards any group."
   ]
  },
  {
   "cell_type": "markdown",
   "id": "76e837b7-bbce-42b3-8476-e028f4873325",
   "metadata": {},
   "source": [
    "#### 4. Basic Feature Extraction(Before Cleaning)\n",
    "- length : length of reviews.\n",
    "- word_count = number of words in reviews."
   ]
  },
  {
   "cell_type": "markdown",
   "id": "743dafa5-37ba-46ec-8a72-de2434ea06db",
   "metadata": {},
   "source": [
    "##### 4.1 Feature Extraction : length\n",
    "- Below is an illustrated example of extracting  review length."
   ]
  },
  {
   "cell_type": "code",
   "execution_count": 7,
   "id": "cd4b45bd-a5b6-4c56-ba95-ca675bd4510a",
   "metadata": {},
   "outputs": [
    {
     "name": "stdout",
     "output_type": "stream",
     "text": [
      "14\n"
     ]
    }
   ],
   "source": [
    "a = 'apple ball cat'\n",
    "print(len(a))"
   ]
  },
  {
   "cell_type": "code",
   "execution_count": 8,
   "id": "648c3d88-2993-4a76-a3d8-49e4cfa9d12d",
   "metadata": {},
   "outputs": [
    {
     "data": {
      "text/html": [
       "<div>\n",
       "<style scoped>\n",
       "    .dataframe tbody tr th:only-of-type {\n",
       "        vertical-align: middle;\n",
       "    }\n",
       "\n",
       "    .dataframe tbody tr th {\n",
       "        vertical-align: top;\n",
       "    }\n",
       "\n",
       "    .dataframe thead th {\n",
       "        text-align: right;\n",
       "    }\n",
       "</style>\n",
       "<table border=\"1\" class=\"dataframe\">\n",
       "  <thead>\n",
       "    <tr style=\"text-align: right;\">\n",
       "      <th></th>\n",
       "      <th>review</th>\n",
       "      <th>sentiment</th>\n",
       "      <th>length</th>\n",
       "    </tr>\n",
       "  </thead>\n",
       "  <tbody>\n",
       "    <tr>\n",
       "      <th>0</th>\n",
       "      <td>One of the other reviewers has mentioned that ...</td>\n",
       "      <td>positive</td>\n",
       "      <td>1761</td>\n",
       "    </tr>\n",
       "    <tr>\n",
       "      <th>1</th>\n",
       "      <td>A wonderful little production. &lt;br /&gt;&lt;br /&gt;The...</td>\n",
       "      <td>positive</td>\n",
       "      <td>998</td>\n",
       "    </tr>\n",
       "    <tr>\n",
       "      <th>2</th>\n",
       "      <td>I thought this was a wonderful way to spend ti...</td>\n",
       "      <td>positive</td>\n",
       "      <td>926</td>\n",
       "    </tr>\n",
       "    <tr>\n",
       "      <th>3</th>\n",
       "      <td>Basically there's a family where a little boy ...</td>\n",
       "      <td>negative</td>\n",
       "      <td>748</td>\n",
       "    </tr>\n",
       "    <tr>\n",
       "      <th>4</th>\n",
       "      <td>Petter Mattei's \"Love in the Time of Money\" is...</td>\n",
       "      <td>positive</td>\n",
       "      <td>1317</td>\n",
       "    </tr>\n",
       "  </tbody>\n",
       "</table>\n",
       "</div>"
      ],
      "text/plain": [
       "                                              review sentiment  length\n",
       "0  One of the other reviewers has mentioned that ...  positive    1761\n",
       "1  A wonderful little production. <br /><br />The...  positive     998\n",
       "2  I thought this was a wonderful way to spend ti...  positive     926\n",
       "3  Basically there's a family where a little boy ...  negative     748\n",
       "4  Petter Mattei's \"Love in the Time of Money\" is...  positive    1317"
      ]
     },
     "execution_count": 8,
     "metadata": {},
     "output_type": "execute_result"
    }
   ],
   "source": [
    "df['length'] = df['review'].apply(lambda row: len(row))\n",
    "df.head()"
   ]
  },
  {
   "cell_type": "markdown",
   "id": "1e2e63d9-ee2a-42e1-a2bf-73f5b1e76ea7",
   "metadata": {},
   "source": [
    "##### 4.2 Feature Extraction: word count\n",
    "- Below is an illustrated example of extracting the feature word_count."
   ]
  },
  {
   "cell_type": "code",
   "execution_count": 9,
   "id": "320026d1-5a5b-4e71-abab-de3aae49a03c",
   "metadata": {},
   "outputs": [
    {
     "data": {
      "text/html": [
       "<div>\n",
       "<style scoped>\n",
       "    .dataframe tbody tr th:only-of-type {\n",
       "        vertical-align: middle;\n",
       "    }\n",
       "\n",
       "    .dataframe tbody tr th {\n",
       "        vertical-align: top;\n",
       "    }\n",
       "\n",
       "    .dataframe thead th {\n",
       "        text-align: right;\n",
       "    }\n",
       "</style>\n",
       "<table border=\"1\" class=\"dataframe\">\n",
       "  <thead>\n",
       "    <tr style=\"text-align: right;\">\n",
       "      <th></th>\n",
       "      <th>review</th>\n",
       "      <th>sentiment</th>\n",
       "      <th>length</th>\n",
       "      <th>word_count</th>\n",
       "    </tr>\n",
       "  </thead>\n",
       "  <tbody>\n",
       "    <tr>\n",
       "      <th>0</th>\n",
       "      <td>One of the other reviewers has mentioned that ...</td>\n",
       "      <td>positive</td>\n",
       "      <td>1761</td>\n",
       "      <td>307</td>\n",
       "    </tr>\n",
       "    <tr>\n",
       "      <th>1</th>\n",
       "      <td>A wonderful little production. &lt;br /&gt;&lt;br /&gt;The...</td>\n",
       "      <td>positive</td>\n",
       "      <td>998</td>\n",
       "      <td>162</td>\n",
       "    </tr>\n",
       "    <tr>\n",
       "      <th>2</th>\n",
       "      <td>I thought this was a wonderful way to spend ti...</td>\n",
       "      <td>positive</td>\n",
       "      <td>926</td>\n",
       "      <td>166</td>\n",
       "    </tr>\n",
       "    <tr>\n",
       "      <th>3</th>\n",
       "      <td>Basically there's a family where a little boy ...</td>\n",
       "      <td>negative</td>\n",
       "      <td>748</td>\n",
       "      <td>138</td>\n",
       "    </tr>\n",
       "    <tr>\n",
       "      <th>4</th>\n",
       "      <td>Petter Mattei's \"Love in the Time of Money\" is...</td>\n",
       "      <td>positive</td>\n",
       "      <td>1317</td>\n",
       "      <td>230</td>\n",
       "    </tr>\n",
       "  </tbody>\n",
       "</table>\n",
       "</div>"
      ],
      "text/plain": [
       "                                              review sentiment  length  \\\n",
       "0  One of the other reviewers has mentioned that ...  positive    1761   \n",
       "1  A wonderful little production. <br /><br />The...  positive     998   \n",
       "2  I thought this was a wonderful way to spend ti...  positive     926   \n",
       "3  Basically there's a family where a little boy ...  negative     748   \n",
       "4  Petter Mattei's \"Love in the Time of Money\" is...  positive    1317   \n",
       "\n",
       "   word_count  \n",
       "0         307  \n",
       "1         162  \n",
       "2         166  \n",
       "3         138  \n",
       "4         230  "
      ]
     },
     "execution_count": 9,
     "metadata": {},
     "output_type": "execute_result"
    }
   ],
   "source": [
    "df['word_count']=df['review'].apply(lambda row: len(row.split(\" \")))\n",
    "df.head()"
   ]
  },
  {
   "cell_type": "markdown",
   "id": "cb73f331-5653-41dc-899a-ef8ae9081d6f",
   "metadata": {},
   "source": [
    "##### 4.3 Top Review Length\n",
    "- Lets print top 5 review_length."
   ]
  },
  {
   "cell_type": "code",
   "execution_count": 10,
   "id": "62e0e00f-bb00-498b-9d29-3825e2592f1b",
   "metadata": {},
   "outputs": [
    {
     "data": {
      "text/html": [
       "<div>\n",
       "<style scoped>\n",
       "    .dataframe tbody tr th:only-of-type {\n",
       "        vertical-align: middle;\n",
       "    }\n",
       "\n",
       "    .dataframe tbody tr th {\n",
       "        vertical-align: top;\n",
       "    }\n",
       "\n",
       "    .dataframe thead th {\n",
       "        text-align: right;\n",
       "    }\n",
       "</style>\n",
       "<table border=\"1\" class=\"dataframe\">\n",
       "  <thead>\n",
       "    <tr style=\"text-align: right;\">\n",
       "      <th></th>\n",
       "      <th>review</th>\n",
       "      <th>sentiment</th>\n",
       "      <th>length</th>\n",
       "      <th>word_count</th>\n",
       "    </tr>\n",
       "  </thead>\n",
       "  <tbody>\n",
       "    <tr>\n",
       "      <th>31481</th>\n",
       "      <td>Match 1: Tag Team Table Match Bubba Ray and Sp...</td>\n",
       "      <td>positive</td>\n",
       "      <td>13704</td>\n",
       "      <td>2470</td>\n",
       "    </tr>\n",
       "    <tr>\n",
       "      <th>40521</th>\n",
       "      <td>There's a sign on The Lost Highway that says:&lt;...</td>\n",
       "      <td>positive</td>\n",
       "      <td>12988</td>\n",
       "      <td>2278</td>\n",
       "    </tr>\n",
       "    <tr>\n",
       "      <th>31240</th>\n",
       "      <td>(Some spoilers included:)&lt;br /&gt;&lt;br /&gt;Although,...</td>\n",
       "      <td>positive</td>\n",
       "      <td>12930</td>\n",
       "      <td>2108</td>\n",
       "    </tr>\n",
       "    <tr>\n",
       "      <th>31436</th>\n",
       "      <td>Back in the mid/late 80s, an OAV anime by titl...</td>\n",
       "      <td>positive</td>\n",
       "      <td>12129</td>\n",
       "      <td>2125</td>\n",
       "    </tr>\n",
       "    <tr>\n",
       "      <th>5708</th>\n",
       "      <td>**Attention Spoilers**&lt;br /&gt;&lt;br /&gt;First of all...</td>\n",
       "      <td>positive</td>\n",
       "      <td>10363</td>\n",
       "      <td>1830</td>\n",
       "    </tr>\n",
       "  </tbody>\n",
       "</table>\n",
       "</div>"
      ],
      "text/plain": [
       "                                                  review sentiment  length  \\\n",
       "31481  Match 1: Tag Team Table Match Bubba Ray and Sp...  positive   13704   \n",
       "40521  There's a sign on The Lost Highway that says:<...  positive   12988   \n",
       "31240  (Some spoilers included:)<br /><br />Although,...  positive   12930   \n",
       "31436  Back in the mid/late 80s, an OAV anime by titl...  positive   12129   \n",
       "5708   **Attention Spoilers**<br /><br />First of all...  positive   10363   \n",
       "\n",
       "       word_count  \n",
       "31481        2470  \n",
       "40521        2278  \n",
       "31240        2108  \n",
       "31436        2125  \n",
       "5708         1830  "
      ]
     },
     "execution_count": 10,
     "metadata": {},
     "output_type": "execute_result"
    }
   ],
   "source": [
    "df.nlargest(5,'length')"
   ]
  },
  {
   "cell_type": "markdown",
   "id": "ca9b5372-7b95-400c-9ed5-e08044f54615",
   "metadata": {},
   "source": [
    "#### 5 Text Preprocessing\n",
    "##### 5.1 Removing HTML tags\n",
    "- As the first step in text preprocessing, we remove HTML tags like br."
   ]
  },
  {
   "cell_type": "code",
   "execution_count": 11,
   "id": "e7dcc1b9-1ca1-4498-8a6a-544f267bf1b3",
   "metadata": {},
   "outputs": [
    {
     "name": "stderr",
     "output_type": "stream",
     "text": [
      "C:\\Users\\hatyy\\AppData\\Local\\Temp\\ipykernel_5512\\2552384214.py:1: MarkupResemblesLocatorWarning: The input looks more like a filename than markup. You may want to open this file and pass the filehandle into Beautiful Soup.\n",
      "  df['clean_review'] = df['review'].apply(lambda row: BeautifulSoup(row,'lxml').get_text())\n"
     ]
    }
   ],
   "source": [
    "df['clean_review'] = df['review'].apply(lambda row: BeautifulSoup(row,'lxml').get_text())"
   ]
  },
  {
   "cell_type": "code",
   "execution_count": 12,
   "id": "b9c9bc0e-7b25-40f3-b09b-a2395a60183f",
   "metadata": {},
   "outputs": [
    {
     "data": {
      "text/html": [
       "<div>\n",
       "<style scoped>\n",
       "    .dataframe tbody tr th:only-of-type {\n",
       "        vertical-align: middle;\n",
       "    }\n",
       "\n",
       "    .dataframe tbody tr th {\n",
       "        vertical-align: top;\n",
       "    }\n",
       "\n",
       "    .dataframe thead th {\n",
       "        text-align: right;\n",
       "    }\n",
       "</style>\n",
       "<table border=\"1\" class=\"dataframe\">\n",
       "  <thead>\n",
       "    <tr style=\"text-align: right;\">\n",
       "      <th></th>\n",
       "      <th>review</th>\n",
       "      <th>sentiment</th>\n",
       "      <th>length</th>\n",
       "      <th>word_count</th>\n",
       "      <th>clean_review</th>\n",
       "    </tr>\n",
       "  </thead>\n",
       "  <tbody>\n",
       "    <tr>\n",
       "      <th>0</th>\n",
       "      <td>One of the other reviewers has mentioned that ...</td>\n",
       "      <td>positive</td>\n",
       "      <td>1761</td>\n",
       "      <td>307</td>\n",
       "      <td>One of the other reviewers has mentioned that ...</td>\n",
       "    </tr>\n",
       "    <tr>\n",
       "      <th>1</th>\n",
       "      <td>A wonderful little production. &lt;br /&gt;&lt;br /&gt;The...</td>\n",
       "      <td>positive</td>\n",
       "      <td>998</td>\n",
       "      <td>162</td>\n",
       "      <td>A wonderful little production. The filming tec...</td>\n",
       "    </tr>\n",
       "    <tr>\n",
       "      <th>2</th>\n",
       "      <td>I thought this was a wonderful way to spend ti...</td>\n",
       "      <td>positive</td>\n",
       "      <td>926</td>\n",
       "      <td>166</td>\n",
       "      <td>I thought this was a wonderful way to spend ti...</td>\n",
       "    </tr>\n",
       "    <tr>\n",
       "      <th>3</th>\n",
       "      <td>Basically there's a family where a little boy ...</td>\n",
       "      <td>negative</td>\n",
       "      <td>748</td>\n",
       "      <td>138</td>\n",
       "      <td>Basically there's a family where a little boy ...</td>\n",
       "    </tr>\n",
       "    <tr>\n",
       "      <th>4</th>\n",
       "      <td>Petter Mattei's \"Love in the Time of Money\" is...</td>\n",
       "      <td>positive</td>\n",
       "      <td>1317</td>\n",
       "      <td>230</td>\n",
       "      <td>Petter Mattei's \"Love in the Time of Money\" is...</td>\n",
       "    </tr>\n",
       "  </tbody>\n",
       "</table>\n",
       "</div>"
      ],
      "text/plain": [
       "                                              review sentiment  length  \\\n",
       "0  One of the other reviewers has mentioned that ...  positive    1761   \n",
       "1  A wonderful little production. <br /><br />The...  positive     998   \n",
       "2  I thought this was a wonderful way to spend ti...  positive     926   \n",
       "3  Basically there's a family where a little boy ...  negative     748   \n",
       "4  Petter Mattei's \"Love in the Time of Money\" is...  positive    1317   \n",
       "\n",
       "   word_count                                       clean_review  \n",
       "0         307  One of the other reviewers has mentioned that ...  \n",
       "1         162  A wonderful little production. The filming tec...  \n",
       "2         166  I thought this was a wonderful way to spend ti...  \n",
       "3         138  Basically there's a family where a little boy ...  \n",
       "4         230  Petter Mattei's \"Love in the Time of Money\" is...  "
      ]
     },
     "execution_count": 12,
     "metadata": {},
     "output_type": "execute_result"
    }
   ],
   "source": [
    "df.head()"
   ]
  },
  {
   "cell_type": "markdown",
   "id": "46f67e6b-a2b2-44fc-8175-d6e284f608c5",
   "metadata": {},
   "source": [
    "##### 5.2 Decontraction   Words \n",
    "- <b> Decontraction </b> is the process of expanding contracted words into their full forms.\n",
    "- For example, converting \"won't\" to \"will not\".\n",
    "- We also remove all characters except letters and spaces from a text using regular expressions.\n",
    "- After this, all text is converted to lowercase."
   ]
  },
  {
   "cell_type": "code",
   "execution_count": 13,
   "id": "05eddbc4-5edf-4ea5-9020-881fb17cfe69",
   "metadata": {},
   "outputs": [],
   "source": [
    "import re\n",
    "def decontraction (phrase):\n",
    "    phrase = re.sub(r\"won't\",\"will not\",phrase)\n",
    "    phrase = re.sub(r\"can\\'t\",\"can not\",phrase)\n",
    "    phrase = re.sub(r\"didn\\'t\",\"did not\",phrase)\n",
    "    phrase = re.sub(r\"haven\\'t\",\"have not\",phrase)\n",
    "    phrase = re.sub(r\"hadn\\'t\",\"had not\",phrase)\n",
    "    \n",
    "    phrase = re.sub(r\"n\\'t\",\" not\",phrase)\n",
    "    phrase = re.sub(r\"\\'re\",\" are\",phrase)\n",
    "    phrase = re.sub(r\"\\'s\",\" is\",phrase)\n",
    "    phrase = re.sub(r\"\\'ll\",\" will\",phrase)\n",
    "    phrase = re.sub(r\"\\'t\",\" not\",phrase)\n",
    "    phrase = re.sub(r\"\\'ve\", \" have\",phrase)\n",
    "    phrase = re.sub(r\"\\'m\", \" am\",phrase)\n",
    "    phrase = re.sub(r'[^a-zA-Z\\s]', ' ', phrase)\n",
    "    phrase = re.sub(r'https\\S+',\" \",phrase) #to remove url\n",
    "    return phrase"
   ]
  },
  {
   "cell_type": "code",
   "execution_count": 14,
   "id": "8e508867-1325-4ffe-a840-ecc1f4cddb6b",
   "metadata": {},
   "outputs": [],
   "source": [
    "df['clean_review'] = df['clean_review'].apply(decontraction )"
   ]
  },
  {
   "cell_type": "code",
   "execution_count": 15,
   "id": "1c7eae6d-a313-4802-9ee4-829a85174d6f",
   "metadata": {},
   "outputs": [
    {
     "data": {
      "text/html": [
       "<div>\n",
       "<style scoped>\n",
       "    .dataframe tbody tr th:only-of-type {\n",
       "        vertical-align: middle;\n",
       "    }\n",
       "\n",
       "    .dataframe tbody tr th {\n",
       "        vertical-align: top;\n",
       "    }\n",
       "\n",
       "    .dataframe thead th {\n",
       "        text-align: right;\n",
       "    }\n",
       "</style>\n",
       "<table border=\"1\" class=\"dataframe\">\n",
       "  <thead>\n",
       "    <tr style=\"text-align: right;\">\n",
       "      <th></th>\n",
       "      <th>review</th>\n",
       "      <th>sentiment</th>\n",
       "      <th>length</th>\n",
       "      <th>word_count</th>\n",
       "      <th>clean_review</th>\n",
       "    </tr>\n",
       "  </thead>\n",
       "  <tbody>\n",
       "    <tr>\n",
       "      <th>0</th>\n",
       "      <td>One of the other reviewers has mentioned that ...</td>\n",
       "      <td>positive</td>\n",
       "      <td>1761</td>\n",
       "      <td>307</td>\n",
       "      <td>One of the other reviewers has mentioned that ...</td>\n",
       "    </tr>\n",
       "    <tr>\n",
       "      <th>1</th>\n",
       "      <td>A wonderful little production. &lt;br /&gt;&lt;br /&gt;The...</td>\n",
       "      <td>positive</td>\n",
       "      <td>998</td>\n",
       "      <td>162</td>\n",
       "      <td>A wonderful little production  The filming tec...</td>\n",
       "    </tr>\n",
       "    <tr>\n",
       "      <th>2</th>\n",
       "      <td>I thought this was a wonderful way to spend ti...</td>\n",
       "      <td>positive</td>\n",
       "      <td>926</td>\n",
       "      <td>166</td>\n",
       "      <td>I thought this was a wonderful way to spend ti...</td>\n",
       "    </tr>\n",
       "    <tr>\n",
       "      <th>3</th>\n",
       "      <td>Basically there's a family where a little boy ...</td>\n",
       "      <td>negative</td>\n",
       "      <td>748</td>\n",
       "      <td>138</td>\n",
       "      <td>Basically there is a family where a little boy...</td>\n",
       "    </tr>\n",
       "    <tr>\n",
       "      <th>4</th>\n",
       "      <td>Petter Mattei's \"Love in the Time of Money\" is...</td>\n",
       "      <td>positive</td>\n",
       "      <td>1317</td>\n",
       "      <td>230</td>\n",
       "      <td>Petter Mattei is  Love in the Time of Money  i...</td>\n",
       "    </tr>\n",
       "  </tbody>\n",
       "</table>\n",
       "</div>"
      ],
      "text/plain": [
       "                                              review sentiment  length  \\\n",
       "0  One of the other reviewers has mentioned that ...  positive    1761   \n",
       "1  A wonderful little production. <br /><br />The...  positive     998   \n",
       "2  I thought this was a wonderful way to spend ti...  positive     926   \n",
       "3  Basically there's a family where a little boy ...  negative     748   \n",
       "4  Petter Mattei's \"Love in the Time of Money\" is...  positive    1317   \n",
       "\n",
       "   word_count                                       clean_review  \n",
       "0         307  One of the other reviewers has mentioned that ...  \n",
       "1         162  A wonderful little production  The filming tec...  \n",
       "2         166  I thought this was a wonderful way to spend ti...  \n",
       "3         138  Basically there is a family where a little boy...  \n",
       "4         230  Petter Mattei is  Love in the Time of Money  i...  "
      ]
     },
     "execution_count": 15,
     "metadata": {},
     "output_type": "execute_result"
    }
   ],
   "source": [
    "df.head()"
   ]
  },
  {
   "cell_type": "markdown",
   "id": "bb0f93a1-ea4e-40ae-8337-f57d8780996f",
   "metadata": {},
   "source": [
    "- Converting text to lower case"
   ]
  },
  {
   "cell_type": "code",
   "execution_count": 16,
   "id": "9659b3bf-1f2e-4ab2-8989-45e6eda63d56",
   "metadata": {},
   "outputs": [
    {
     "data": {
      "text/html": [
       "<div>\n",
       "<style scoped>\n",
       "    .dataframe tbody tr th:only-of-type {\n",
       "        vertical-align: middle;\n",
       "    }\n",
       "\n",
       "    .dataframe tbody tr th {\n",
       "        vertical-align: top;\n",
       "    }\n",
       "\n",
       "    .dataframe thead th {\n",
       "        text-align: right;\n",
       "    }\n",
       "</style>\n",
       "<table border=\"1\" class=\"dataframe\">\n",
       "  <thead>\n",
       "    <tr style=\"text-align: right;\">\n",
       "      <th></th>\n",
       "      <th>review</th>\n",
       "      <th>sentiment</th>\n",
       "      <th>length</th>\n",
       "      <th>word_count</th>\n",
       "      <th>clean_review</th>\n",
       "    </tr>\n",
       "  </thead>\n",
       "  <tbody>\n",
       "    <tr>\n",
       "      <th>0</th>\n",
       "      <td>One of the other reviewers has mentioned that ...</td>\n",
       "      <td>positive</td>\n",
       "      <td>1761</td>\n",
       "      <td>307</td>\n",
       "      <td>one of the other reviewers has mentioned that ...</td>\n",
       "    </tr>\n",
       "    <tr>\n",
       "      <th>1</th>\n",
       "      <td>A wonderful little production. &lt;br /&gt;&lt;br /&gt;The...</td>\n",
       "      <td>positive</td>\n",
       "      <td>998</td>\n",
       "      <td>162</td>\n",
       "      <td>a wonderful little production  the filming tec...</td>\n",
       "    </tr>\n",
       "    <tr>\n",
       "      <th>2</th>\n",
       "      <td>I thought this was a wonderful way to spend ti...</td>\n",
       "      <td>positive</td>\n",
       "      <td>926</td>\n",
       "      <td>166</td>\n",
       "      <td>i thought this was a wonderful way to spend ti...</td>\n",
       "    </tr>\n",
       "    <tr>\n",
       "      <th>3</th>\n",
       "      <td>Basically there's a family where a little boy ...</td>\n",
       "      <td>negative</td>\n",
       "      <td>748</td>\n",
       "      <td>138</td>\n",
       "      <td>basically there is a family where a little boy...</td>\n",
       "    </tr>\n",
       "    <tr>\n",
       "      <th>4</th>\n",
       "      <td>Petter Mattei's \"Love in the Time of Money\" is...</td>\n",
       "      <td>positive</td>\n",
       "      <td>1317</td>\n",
       "      <td>230</td>\n",
       "      <td>petter mattei is  love in the time of money  i...</td>\n",
       "    </tr>\n",
       "  </tbody>\n",
       "</table>\n",
       "</div>"
      ],
      "text/plain": [
       "                                              review sentiment  length  \\\n",
       "0  One of the other reviewers has mentioned that ...  positive    1761   \n",
       "1  A wonderful little production. <br /><br />The...  positive     998   \n",
       "2  I thought this was a wonderful way to spend ti...  positive     926   \n",
       "3  Basically there's a family where a little boy ...  negative     748   \n",
       "4  Petter Mattei's \"Love in the Time of Money\" is...  positive    1317   \n",
       "\n",
       "   word_count                                       clean_review  \n",
       "0         307  one of the other reviewers has mentioned that ...  \n",
       "1         162  a wonderful little production  the filming tec...  \n",
       "2         166  i thought this was a wonderful way to spend ti...  \n",
       "3         138  basically there is a family where a little boy...  \n",
       "4         230  petter mattei is  love in the time of money  i...  "
      ]
     },
     "execution_count": 16,
     "metadata": {},
     "output_type": "execute_result"
    }
   ],
   "source": [
    "df['clean_review']=df['clean_review'].str.lower()\n",
    "df.head()"
   ]
  },
  {
   "cell_type": "markdown",
   "id": "d12a9a59-c527-4fed-8fbb-5cb6fa86f2a8",
   "metadata": {},
   "source": [
    "##### 5.3 Word Tokenization\n",
    "-  We need to break down the text into individual words (tokens) before we can identify and remove stop words."
   ]
  },
  {
   "cell_type": "code",
   "execution_count": 17,
   "id": "d1b3d0d2-58a6-43f0-94a2-48aab009bf03",
   "metadata": {},
   "outputs": [],
   "source": [
    "from nltk.tokenize import word_tokenize\n",
    "\n",
    "df['clean_review'] = df['clean_review'].apply(word_tokenize)"
   ]
  },
  {
   "cell_type": "code",
   "execution_count": 18,
   "id": "8202ff11-82c7-442f-b75a-5e653ca51690",
   "metadata": {},
   "outputs": [
    {
     "data": {
      "text/html": [
       "<div>\n",
       "<style scoped>\n",
       "    .dataframe tbody tr th:only-of-type {\n",
       "        vertical-align: middle;\n",
       "    }\n",
       "\n",
       "    .dataframe tbody tr th {\n",
       "        vertical-align: top;\n",
       "    }\n",
       "\n",
       "    .dataframe thead th {\n",
       "        text-align: right;\n",
       "    }\n",
       "</style>\n",
       "<table border=\"1\" class=\"dataframe\">\n",
       "  <thead>\n",
       "    <tr style=\"text-align: right;\">\n",
       "      <th></th>\n",
       "      <th>review</th>\n",
       "      <th>sentiment</th>\n",
       "      <th>length</th>\n",
       "      <th>word_count</th>\n",
       "      <th>clean_review</th>\n",
       "    </tr>\n",
       "  </thead>\n",
       "  <tbody>\n",
       "    <tr>\n",
       "      <th>0</th>\n",
       "      <td>One of the other reviewers has mentioned that ...</td>\n",
       "      <td>positive</td>\n",
       "      <td>1761</td>\n",
       "      <td>307</td>\n",
       "      <td>[one, of, the, other, reviewers, has, mentione...</td>\n",
       "    </tr>\n",
       "    <tr>\n",
       "      <th>1</th>\n",
       "      <td>A wonderful little production. &lt;br /&gt;&lt;br /&gt;The...</td>\n",
       "      <td>positive</td>\n",
       "      <td>998</td>\n",
       "      <td>162</td>\n",
       "      <td>[a, wonderful, little, production, the, filmin...</td>\n",
       "    </tr>\n",
       "    <tr>\n",
       "      <th>2</th>\n",
       "      <td>I thought this was a wonderful way to spend ti...</td>\n",
       "      <td>positive</td>\n",
       "      <td>926</td>\n",
       "      <td>166</td>\n",
       "      <td>[i, thought, this, was, a, wonderful, way, to,...</td>\n",
       "    </tr>\n",
       "    <tr>\n",
       "      <th>3</th>\n",
       "      <td>Basically there's a family where a little boy ...</td>\n",
       "      <td>negative</td>\n",
       "      <td>748</td>\n",
       "      <td>138</td>\n",
       "      <td>[basically, there, is, a, family, where, a, li...</td>\n",
       "    </tr>\n",
       "    <tr>\n",
       "      <th>4</th>\n",
       "      <td>Petter Mattei's \"Love in the Time of Money\" is...</td>\n",
       "      <td>positive</td>\n",
       "      <td>1317</td>\n",
       "      <td>230</td>\n",
       "      <td>[petter, mattei, is, love, in, the, time, of, ...</td>\n",
       "    </tr>\n",
       "  </tbody>\n",
       "</table>\n",
       "</div>"
      ],
      "text/plain": [
       "                                              review sentiment  length  \\\n",
       "0  One of the other reviewers has mentioned that ...  positive    1761   \n",
       "1  A wonderful little production. <br /><br />The...  positive     998   \n",
       "2  I thought this was a wonderful way to spend ti...  positive     926   \n",
       "3  Basically there's a family where a little boy ...  negative     748   \n",
       "4  Petter Mattei's \"Love in the Time of Money\" is...  positive    1317   \n",
       "\n",
       "   word_count                                       clean_review  \n",
       "0         307  [one, of, the, other, reviewers, has, mentione...  \n",
       "1         162  [a, wonderful, little, production, the, filmin...  \n",
       "2         166  [i, thought, this, was, a, wonderful, way, to,...  \n",
       "3         138  [basically, there, is, a, family, where, a, li...  \n",
       "4         230  [petter, mattei, is, love, in, the, time, of, ...  "
      ]
     },
     "execution_count": 18,
     "metadata": {},
     "output_type": "execute_result"
    }
   ],
   "source": [
    "df.head()"
   ]
  },
  {
   "cell_type": "markdown",
   "id": "d22b2736-7e32-4f32-b109-62502677bf0f",
   "metadata": {},
   "source": [
    "\n",
    "##### 5.4 Stop Words Removal\n",
    "- Stop words are common words like \"the\", \"and\", \"is\". We remove them because they don't add much meaning to the text.\n",
    "- So, we are removing stop words except for words like <b> \"no\" </b> and <b> \"not\" </b> as they significantly impact sentiment analysis.\n"
   ]
  },
  {
   "cell_type": "markdown",
   "id": "633ab015-c48f-4592-9fdd-321d4c12546b",
   "metadata": {},
   "source": [
    "- Before removing stop words, let's print one review to see its original form."
   ]
  },
  {
   "cell_type": "code",
   "execution_count": 19,
   "id": "83fd8e52-9cac-4240-9e3c-1154bfe8a638",
   "metadata": {},
   "outputs": [
    {
     "name": "stdout",
     "output_type": "stream",
     "text": [
      "the cast played shakespeare shakespeare lost i appreciate that this is trying to bring shakespeare to the masses but why ruin something so good is it because the scottish play is my favorite shakespeare i do not know what i do know is that a certain rev bowdler hence bowdlerization tried to do something similar in the victorian era in other words you can not improve perfection i have no more to write but as i have to write at least ten lines of text and english composition was never my forte i will just have to keep going and say that this movie as the saying goes just does not cut it\n"
     ]
    }
   ],
   "source": [
    "print(' '.join(df['clean_review'].loc[13]))"
   ]
  },
  {
   "cell_type": "code",
   "execution_count": 20,
   "id": "0bfb3308-4cf9-4631-82af-1c60b87c08ba",
   "metadata": {},
   "outputs": [
    {
     "name": "stdout",
     "output_type": "stream",
     "text": [
      "179\n"
     ]
    }
   ],
   "source": [
    "from nltk.corpus import stopwords\n",
    "\n",
    "stop_words = set(stopwords.words('english'))\n",
    "print(len(stop_words)) #length before removing no,not from stop_words"
   ]
  },
  {
   "cell_type": "code",
   "execution_count": 21,
   "id": "65d99e98-f559-46b5-bc7a-264b90210738",
   "metadata": {},
   "outputs": [],
   "source": [
    "remove_stop = {'not','never','one','down','more','worse'}\n",
    "\n",
    "stop_words = stop_words-remove_stop #removing "
   ]
  },
  {
   "cell_type": "code",
   "execution_count": 22,
   "id": "bca4e8a5-e67a-437e-aef6-ab525dcff4e5",
   "metadata": {},
   "outputs": [
    {
     "name": "stdout",
     "output_type": "stream",
     "text": [
      "176\n"
     ]
    }
   ],
   "source": [
    "print(len(stop_words)) #length of stop words after removing some words"
   ]
  },
  {
   "cell_type": "code",
   "execution_count": 23,
   "id": "2a484d89-4752-467a-b74c-1985d91b878d",
   "metadata": {},
   "outputs": [],
   "source": [
    "df['clean_review'] = df['clean_review'].apply(lambda x: [word for word in x if word not in stop_words])"
   ]
  },
  {
   "cell_type": "code",
   "execution_count": 24,
   "id": "606f4ab2-957c-4c51-bdc3-76b59ab454eb",
   "metadata": {},
   "outputs": [
    {
     "data": {
      "text/html": [
       "<div>\n",
       "<style scoped>\n",
       "    .dataframe tbody tr th:only-of-type {\n",
       "        vertical-align: middle;\n",
       "    }\n",
       "\n",
       "    .dataframe tbody tr th {\n",
       "        vertical-align: top;\n",
       "    }\n",
       "\n",
       "    .dataframe thead th {\n",
       "        text-align: right;\n",
       "    }\n",
       "</style>\n",
       "<table border=\"1\" class=\"dataframe\">\n",
       "  <thead>\n",
       "    <tr style=\"text-align: right;\">\n",
       "      <th></th>\n",
       "      <th>review</th>\n",
       "      <th>sentiment</th>\n",
       "      <th>length</th>\n",
       "      <th>word_count</th>\n",
       "      <th>clean_review</th>\n",
       "    </tr>\n",
       "  </thead>\n",
       "  <tbody>\n",
       "    <tr>\n",
       "      <th>0</th>\n",
       "      <td>One of the other reviewers has mentioned that ...</td>\n",
       "      <td>positive</td>\n",
       "      <td>1761</td>\n",
       "      <td>307</td>\n",
       "      <td>[one, reviewers, mentioned, watching, oz, epis...</td>\n",
       "    </tr>\n",
       "    <tr>\n",
       "      <th>1</th>\n",
       "      <td>A wonderful little production. &lt;br /&gt;&lt;br /&gt;The...</td>\n",
       "      <td>positive</td>\n",
       "      <td>998</td>\n",
       "      <td>162</td>\n",
       "      <td>[wonderful, little, production, filming, techn...</td>\n",
       "    </tr>\n",
       "    <tr>\n",
       "      <th>2</th>\n",
       "      <td>I thought this was a wonderful way to spend ti...</td>\n",
       "      <td>positive</td>\n",
       "      <td>926</td>\n",
       "      <td>166</td>\n",
       "      <td>[thought, wonderful, way, spend, time, hot, su...</td>\n",
       "    </tr>\n",
       "    <tr>\n",
       "      <th>3</th>\n",
       "      <td>Basically there's a family where a little boy ...</td>\n",
       "      <td>negative</td>\n",
       "      <td>748</td>\n",
       "      <td>138</td>\n",
       "      <td>[basically, family, little, boy, jake, thinks,...</td>\n",
       "    </tr>\n",
       "    <tr>\n",
       "      <th>4</th>\n",
       "      <td>Petter Mattei's \"Love in the Time of Money\" is...</td>\n",
       "      <td>positive</td>\n",
       "      <td>1317</td>\n",
       "      <td>230</td>\n",
       "      <td>[petter, mattei, love, time, money, visually, ...</td>\n",
       "    </tr>\n",
       "  </tbody>\n",
       "</table>\n",
       "</div>"
      ],
      "text/plain": [
       "                                              review sentiment  length  \\\n",
       "0  One of the other reviewers has mentioned that ...  positive    1761   \n",
       "1  A wonderful little production. <br /><br />The...  positive     998   \n",
       "2  I thought this was a wonderful way to spend ti...  positive     926   \n",
       "3  Basically there's a family where a little boy ...  negative     748   \n",
       "4  Petter Mattei's \"Love in the Time of Money\" is...  positive    1317   \n",
       "\n",
       "   word_count                                       clean_review  \n",
       "0         307  [one, reviewers, mentioned, watching, oz, epis...  \n",
       "1         162  [wonderful, little, production, filming, techn...  \n",
       "2         166  [thought, wonderful, way, spend, time, hot, su...  \n",
       "3         138  [basically, family, little, boy, jake, thinks,...  \n",
       "4         230  [petter, mattei, love, time, money, visually, ...  "
      ]
     },
     "execution_count": 24,
     "metadata": {},
     "output_type": "execute_result"
    }
   ],
   "source": [
    "df.head()"
   ]
  },
  {
   "cell_type": "markdown",
   "id": "fe554536-fbb5-47d8-900d-c3078212b316",
   "metadata": {},
   "source": [
    "- review after removing stop_words"
   ]
  },
  {
   "cell_type": "code",
   "execution_count": 25,
   "id": "7620c11b-12ab-4e01-9f98-d9c34db47f02",
   "metadata": {},
   "outputs": [
    {
     "name": "stdout",
     "output_type": "stream",
     "text": [
      "cast played shakespeare shakespeare lost appreciate trying bring shakespeare masses ruin something good scottish play favorite shakespeare not know know certain rev bowdler hence bowdlerization tried something similar victorian era words not improve perfection more write write least ten lines text english composition never forte keep going say movie saying goes not cut\n"
     ]
    }
   ],
   "source": [
    "print(' '.join(df['clean_review'].loc[13]))"
   ]
  },
  {
   "cell_type": "markdown",
   "id": "e8b36b1c-2ea9-4e33-b350-aa0d2587591f",
   "metadata": {},
   "source": [
    "##### 5.5 Stemming\n",
    "- Stemming reduces words to their root form. For example, \"loved\", \"loving\", and \"love\" become \"love\". It helps in finding similar words but can create words that don't exist."
   ]
  },
  {
   "cell_type": "code",
   "execution_count": 26,
   "id": "1a1e6a37-36aa-4ab7-90e6-4a8793925f8e",
   "metadata": {},
   "outputs": [],
   "source": [
    "from nltk.stem import PorterStemmer\n",
    "\n",
    "# Using stemming\n",
    "stemmer = PorterStemmer()\n",
    "df['clean_review'] = df['clean_review'].apply(lambda x: [stemmer.stem(word) for word in x])"
   ]
  },
  {
   "cell_type": "code",
   "execution_count": 27,
   "id": "0138d154-dda0-41a4-b665-d87b62840c30",
   "metadata": {},
   "outputs": [
    {
     "data": {
      "text/html": [
       "<div>\n",
       "<style scoped>\n",
       "    .dataframe tbody tr th:only-of-type {\n",
       "        vertical-align: middle;\n",
       "    }\n",
       "\n",
       "    .dataframe tbody tr th {\n",
       "        vertical-align: top;\n",
       "    }\n",
       "\n",
       "    .dataframe thead th {\n",
       "        text-align: right;\n",
       "    }\n",
       "</style>\n",
       "<table border=\"1\" class=\"dataframe\">\n",
       "  <thead>\n",
       "    <tr style=\"text-align: right;\">\n",
       "      <th></th>\n",
       "      <th>review</th>\n",
       "      <th>sentiment</th>\n",
       "      <th>length</th>\n",
       "      <th>word_count</th>\n",
       "      <th>clean_review</th>\n",
       "    </tr>\n",
       "  </thead>\n",
       "  <tbody>\n",
       "    <tr>\n",
       "      <th>0</th>\n",
       "      <td>One of the other reviewers has mentioned that ...</td>\n",
       "      <td>positive</td>\n",
       "      <td>1761</td>\n",
       "      <td>307</td>\n",
       "      <td>[one, review, mention, watch, oz, episod, hook...</td>\n",
       "    </tr>\n",
       "    <tr>\n",
       "      <th>1</th>\n",
       "      <td>A wonderful little production. &lt;br /&gt;&lt;br /&gt;The...</td>\n",
       "      <td>positive</td>\n",
       "      <td>998</td>\n",
       "      <td>162</td>\n",
       "      <td>[wonder, littl, product, film, techniqu, unass...</td>\n",
       "    </tr>\n",
       "    <tr>\n",
       "      <th>2</th>\n",
       "      <td>I thought this was a wonderful way to spend ti...</td>\n",
       "      <td>positive</td>\n",
       "      <td>926</td>\n",
       "      <td>166</td>\n",
       "      <td>[thought, wonder, way, spend, time, hot, summe...</td>\n",
       "    </tr>\n",
       "    <tr>\n",
       "      <th>3</th>\n",
       "      <td>Basically there's a family where a little boy ...</td>\n",
       "      <td>negative</td>\n",
       "      <td>748</td>\n",
       "      <td>138</td>\n",
       "      <td>[basic, famili, littl, boy, jake, think, zombi...</td>\n",
       "    </tr>\n",
       "    <tr>\n",
       "      <th>4</th>\n",
       "      <td>Petter Mattei's \"Love in the Time of Money\" is...</td>\n",
       "      <td>positive</td>\n",
       "      <td>1317</td>\n",
       "      <td>230</td>\n",
       "      <td>[petter, mattei, love, time, money, visual, st...</td>\n",
       "    </tr>\n",
       "  </tbody>\n",
       "</table>\n",
       "</div>"
      ],
      "text/plain": [
       "                                              review sentiment  length  \\\n",
       "0  One of the other reviewers has mentioned that ...  positive    1761   \n",
       "1  A wonderful little production. <br /><br />The...  positive     998   \n",
       "2  I thought this was a wonderful way to spend ti...  positive     926   \n",
       "3  Basically there's a family where a little boy ...  negative     748   \n",
       "4  Petter Mattei's \"Love in the Time of Money\" is...  positive    1317   \n",
       "\n",
       "   word_count                                       clean_review  \n",
       "0         307  [one, review, mention, watch, oz, episod, hook...  \n",
       "1         162  [wonder, littl, product, film, techniqu, unass...  \n",
       "2         166  [thought, wonder, way, spend, time, hot, summe...  \n",
       "3         138  [basic, famili, littl, boy, jake, think, zombi...  \n",
       "4         230  [petter, mattei, love, time, money, visual, st...  "
      ]
     },
     "execution_count": 27,
     "metadata": {},
     "output_type": "execute_result"
    }
   ],
   "source": [
    "df.head()"
   ]
  },
  {
   "cell_type": "markdown",
   "id": "b818637b-c966-44a1-908b-ea462eff7a59",
   "metadata": {},
   "source": [
    "##### 5.6 Joining\n",
    "- Let's join these tokens into a sentence."
   ]
  },
  {
   "cell_type": "code",
   "execution_count": 28,
   "id": "365f0d7a-9cb0-4c50-99a7-78a7ad46d4a9",
   "metadata": {},
   "outputs": [],
   "source": [
    "df['clean_review'] = df['clean_review'].apply(lambda x: ' '.join(x))"
   ]
  },
  {
   "cell_type": "code",
   "execution_count": 29,
   "id": "918bc371-6d9c-4f34-8929-4d3f77ebcb21",
   "metadata": {},
   "outputs": [
    {
     "data": {
      "text/html": [
       "<div>\n",
       "<style scoped>\n",
       "    .dataframe tbody tr th:only-of-type {\n",
       "        vertical-align: middle;\n",
       "    }\n",
       "\n",
       "    .dataframe tbody tr th {\n",
       "        vertical-align: top;\n",
       "    }\n",
       "\n",
       "    .dataframe thead th {\n",
       "        text-align: right;\n",
       "    }\n",
       "</style>\n",
       "<table border=\"1\" class=\"dataframe\">\n",
       "  <thead>\n",
       "    <tr style=\"text-align: right;\">\n",
       "      <th></th>\n",
       "      <th>review</th>\n",
       "      <th>sentiment</th>\n",
       "      <th>length</th>\n",
       "      <th>word_count</th>\n",
       "      <th>clean_review</th>\n",
       "    </tr>\n",
       "  </thead>\n",
       "  <tbody>\n",
       "    <tr>\n",
       "      <th>0</th>\n",
       "      <td>One of the other reviewers has mentioned that ...</td>\n",
       "      <td>positive</td>\n",
       "      <td>1761</td>\n",
       "      <td>307</td>\n",
       "      <td>one review mention watch oz episod hook right ...</td>\n",
       "    </tr>\n",
       "    <tr>\n",
       "      <th>1</th>\n",
       "      <td>A wonderful little production. &lt;br /&gt;&lt;br /&gt;The...</td>\n",
       "      <td>positive</td>\n",
       "      <td>998</td>\n",
       "      <td>162</td>\n",
       "      <td>wonder littl product film techniqu unassum old...</td>\n",
       "    </tr>\n",
       "    <tr>\n",
       "      <th>2</th>\n",
       "      <td>I thought this was a wonderful way to spend ti...</td>\n",
       "      <td>positive</td>\n",
       "      <td>926</td>\n",
       "      <td>166</td>\n",
       "      <td>thought wonder way spend time hot summer weeke...</td>\n",
       "    </tr>\n",
       "    <tr>\n",
       "      <th>3</th>\n",
       "      <td>Basically there's a family where a little boy ...</td>\n",
       "      <td>negative</td>\n",
       "      <td>748</td>\n",
       "      <td>138</td>\n",
       "      <td>basic famili littl boy jake think zombi closet...</td>\n",
       "    </tr>\n",
       "    <tr>\n",
       "      <th>4</th>\n",
       "      <td>Petter Mattei's \"Love in the Time of Money\" is...</td>\n",
       "      <td>positive</td>\n",
       "      <td>1317</td>\n",
       "      <td>230</td>\n",
       "      <td>petter mattei love time money visual stun film...</td>\n",
       "    </tr>\n",
       "  </tbody>\n",
       "</table>\n",
       "</div>"
      ],
      "text/plain": [
       "                                              review sentiment  length  \\\n",
       "0  One of the other reviewers has mentioned that ...  positive    1761   \n",
       "1  A wonderful little production. <br /><br />The...  positive     998   \n",
       "2  I thought this was a wonderful way to spend ti...  positive     926   \n",
       "3  Basically there's a family where a little boy ...  negative     748   \n",
       "4  Petter Mattei's \"Love in the Time of Money\" is...  positive    1317   \n",
       "\n",
       "   word_count                                       clean_review  \n",
       "0         307  one review mention watch oz episod hook right ...  \n",
       "1         162  wonder littl product film techniqu unassum old...  \n",
       "2         166  thought wonder way spend time hot summer weeke...  \n",
       "3         138  basic famili littl boy jake think zombi closet...  \n",
       "4         230  petter mattei love time money visual stun film...  "
      ]
     },
     "execution_count": 29,
     "metadata": {},
     "output_type": "execute_result"
    }
   ],
   "source": [
    "df.head()"
   ]
  },
  {
   "cell_type": "markdown",
   "id": "5be326a2-a3b4-4a03-bbd8-9fcc02319198",
   "metadata": {},
   "source": [
    "- Review after applying stemming and removing stop words. "
   ]
  },
  {
   "cell_type": "code",
   "execution_count": 30,
   "id": "ec503f82-03d9-4939-a935-3a3adccf2e2d",
   "metadata": {},
   "outputs": [
    {
     "data": {
      "text/plain": [
       "'basic famili littl boy jake think zombi closet parent fight time movi slower soap opera suddenli jake decid becom rambo kill zombi ok first go make film must decid thriller drama drama movi watchabl parent divorc argu like real life jake closet total ruin film expect see boogeyman similar movi instead watch drama meaningless thriller spot well play parent descent dialog shot jake ignor'"
      ]
     },
     "execution_count": 30,
     "metadata": {},
     "output_type": "execute_result"
    }
   ],
   "source": [
    "df['clean_review'].loc[3]"
   ]
  },
  {
   "cell_type": "markdown",
   "id": "efe4d8d9-f2c0-4dc6-974d-d631c0e4f857",
   "metadata": {},
   "source": [
    "- Let's save this processed text to a new DataFrame.\n"
   ]
  },
  {
   "cell_type": "code",
   "execution_count": 31,
   "id": "d77b2051-1cfd-4424-986f-15a82305d46c",
   "metadata": {},
   "outputs": [],
   "source": [
    "df.to_csv('imdb_com.csv',index=False)"
   ]
  },
  {
   "cell_type": "markdown",
   "id": "df7284f8-9ce6-41ee-bc69-ca511d07e856",
   "metadata": {},
   "source": [
    "##### 5.7 Conversion\n",
    "- Convert the categorical target variable to numerical values, assigning 1 to positive sentiment and 0 to negative sentiment."
   ]
  },
  {
   "cell_type": "code",
   "execution_count": 32,
   "id": "8134b267-27c9-467c-a556-a2e2e9987eba",
   "metadata": {},
   "outputs": [],
   "source": [
    "df = pd.read_csv('imdb_com.csv')"
   ]
  },
  {
   "cell_type": "code",
   "execution_count": 33,
   "id": "81857ffb-6d0e-4a7a-b975-dfab5a0afd84",
   "metadata": {},
   "outputs": [],
   "source": [
    "df['sentiment'] = df['sentiment'].apply(lambda x: 1 if x == 'positive' else 0)\n"
   ]
  },
  {
   "cell_type": "code",
   "execution_count": 34,
   "id": "d0167401-ea48-46ea-88e2-6d429ab3d5b3",
   "metadata": {},
   "outputs": [
    {
     "data": {
      "text/html": [
       "<div>\n",
       "<style scoped>\n",
       "    .dataframe tbody tr th:only-of-type {\n",
       "        vertical-align: middle;\n",
       "    }\n",
       "\n",
       "    .dataframe tbody tr th {\n",
       "        vertical-align: top;\n",
       "    }\n",
       "\n",
       "    .dataframe thead th {\n",
       "        text-align: right;\n",
       "    }\n",
       "</style>\n",
       "<table border=\"1\" class=\"dataframe\">\n",
       "  <thead>\n",
       "    <tr style=\"text-align: right;\">\n",
       "      <th></th>\n",
       "      <th>review</th>\n",
       "      <th>sentiment</th>\n",
       "      <th>length</th>\n",
       "      <th>word_count</th>\n",
       "      <th>clean_review</th>\n",
       "    </tr>\n",
       "  </thead>\n",
       "  <tbody>\n",
       "    <tr>\n",
       "      <th>0</th>\n",
       "      <td>One of the other reviewers has mentioned that ...</td>\n",
       "      <td>1</td>\n",
       "      <td>1761</td>\n",
       "      <td>307</td>\n",
       "      <td>one review mention watch oz episod hook right ...</td>\n",
       "    </tr>\n",
       "    <tr>\n",
       "      <th>1</th>\n",
       "      <td>A wonderful little production. &lt;br /&gt;&lt;br /&gt;The...</td>\n",
       "      <td>1</td>\n",
       "      <td>998</td>\n",
       "      <td>162</td>\n",
       "      <td>wonder littl product film techniqu unassum old...</td>\n",
       "    </tr>\n",
       "    <tr>\n",
       "      <th>2</th>\n",
       "      <td>I thought this was a wonderful way to spend ti...</td>\n",
       "      <td>1</td>\n",
       "      <td>926</td>\n",
       "      <td>166</td>\n",
       "      <td>thought wonder way spend time hot summer weeke...</td>\n",
       "    </tr>\n",
       "    <tr>\n",
       "      <th>3</th>\n",
       "      <td>Basically there's a family where a little boy ...</td>\n",
       "      <td>0</td>\n",
       "      <td>748</td>\n",
       "      <td>138</td>\n",
       "      <td>basic famili littl boy jake think zombi closet...</td>\n",
       "    </tr>\n",
       "    <tr>\n",
       "      <th>4</th>\n",
       "      <td>Petter Mattei's \"Love in the Time of Money\" is...</td>\n",
       "      <td>1</td>\n",
       "      <td>1317</td>\n",
       "      <td>230</td>\n",
       "      <td>petter mattei love time money visual stun film...</td>\n",
       "    </tr>\n",
       "  </tbody>\n",
       "</table>\n",
       "</div>"
      ],
      "text/plain": [
       "                                              review  sentiment  length  \\\n",
       "0  One of the other reviewers has mentioned that ...          1    1761   \n",
       "1  A wonderful little production. <br /><br />The...          1     998   \n",
       "2  I thought this was a wonderful way to spend ti...          1     926   \n",
       "3  Basically there's a family where a little boy ...          0     748   \n",
       "4  Petter Mattei's \"Love in the Time of Money\" is...          1    1317   \n",
       "\n",
       "   word_count                                       clean_review  \n",
       "0         307  one review mention watch oz episod hook right ...  \n",
       "1         162  wonder littl product film techniqu unassum old...  \n",
       "2         166  thought wonder way spend time hot summer weeke...  \n",
       "3         138  basic famili littl boy jake think zombi closet...  \n",
       "4         230  petter mattei love time money visual stun film...  "
      ]
     },
     "execution_count": 34,
     "metadata": {},
     "output_type": "execute_result"
    }
   ],
   "source": [
    "df.head()"
   ]
  },
  {
   "cell_type": "code",
   "execution_count": 35,
   "id": "50a85ace-fd5f-4bd7-9c4f-c17eddfd0fcc",
   "metadata": {},
   "outputs": [],
   "source": [
    "y_true = df['sentiment']"
   ]
  },
  {
   "cell_type": "code",
   "execution_count": 36,
   "id": "a6ca186a-28fe-4f85-9d19-370d47fe9171",
   "metadata": {},
   "outputs": [],
   "source": [
    "df.drop(['sentiment'],axis=1,inplace=True)"
   ]
  },
  {
   "cell_type": "code",
   "execution_count": 37,
   "id": "a27e517e-fac3-40ea-bd07-9e2322c31a8c",
   "metadata": {},
   "outputs": [
    {
     "data": {
      "text/html": [
       "<div>\n",
       "<style scoped>\n",
       "    .dataframe tbody tr th:only-of-type {\n",
       "        vertical-align: middle;\n",
       "    }\n",
       "\n",
       "    .dataframe tbody tr th {\n",
       "        vertical-align: top;\n",
       "    }\n",
       "\n",
       "    .dataframe thead th {\n",
       "        text-align: right;\n",
       "    }\n",
       "</style>\n",
       "<table border=\"1\" class=\"dataframe\">\n",
       "  <thead>\n",
       "    <tr style=\"text-align: right;\">\n",
       "      <th></th>\n",
       "      <th>review</th>\n",
       "      <th>length</th>\n",
       "      <th>word_count</th>\n",
       "      <th>clean_review</th>\n",
       "    </tr>\n",
       "  </thead>\n",
       "  <tbody>\n",
       "    <tr>\n",
       "      <th>0</th>\n",
       "      <td>One of the other reviewers has mentioned that ...</td>\n",
       "      <td>1761</td>\n",
       "      <td>307</td>\n",
       "      <td>one review mention watch oz episod hook right ...</td>\n",
       "    </tr>\n",
       "    <tr>\n",
       "      <th>1</th>\n",
       "      <td>A wonderful little production. &lt;br /&gt;&lt;br /&gt;The...</td>\n",
       "      <td>998</td>\n",
       "      <td>162</td>\n",
       "      <td>wonder littl product film techniqu unassum old...</td>\n",
       "    </tr>\n",
       "    <tr>\n",
       "      <th>2</th>\n",
       "      <td>I thought this was a wonderful way to spend ti...</td>\n",
       "      <td>926</td>\n",
       "      <td>166</td>\n",
       "      <td>thought wonder way spend time hot summer weeke...</td>\n",
       "    </tr>\n",
       "    <tr>\n",
       "      <th>3</th>\n",
       "      <td>Basically there's a family where a little boy ...</td>\n",
       "      <td>748</td>\n",
       "      <td>138</td>\n",
       "      <td>basic famili littl boy jake think zombi closet...</td>\n",
       "    </tr>\n",
       "    <tr>\n",
       "      <th>4</th>\n",
       "      <td>Petter Mattei's \"Love in the Time of Money\" is...</td>\n",
       "      <td>1317</td>\n",
       "      <td>230</td>\n",
       "      <td>petter mattei love time money visual stun film...</td>\n",
       "    </tr>\n",
       "  </tbody>\n",
       "</table>\n",
       "</div>"
      ],
      "text/plain": [
       "                                              review  length  word_count  \\\n",
       "0  One of the other reviewers has mentioned that ...    1761         307   \n",
       "1  A wonderful little production. <br /><br />The...     998         162   \n",
       "2  I thought this was a wonderful way to spend ti...     926         166   \n",
       "3  Basically there's a family where a little boy ...     748         138   \n",
       "4  Petter Mattei's \"Love in the Time of Money\" is...    1317         230   \n",
       "\n",
       "                                        clean_review  \n",
       "0  one review mention watch oz episod hook right ...  \n",
       "1  wonder littl product film techniqu unassum old...  \n",
       "2  thought wonder way spend time hot summer weeke...  \n",
       "3  basic famili littl boy jake think zombi closet...  \n",
       "4  petter mattei love time money visual stun film...  "
      ]
     },
     "execution_count": 37,
     "metadata": {},
     "output_type": "execute_result"
    }
   ],
   "source": [
    "df.head()"
   ]
  },
  {
   "cell_type": "markdown",
   "id": "180bf421-80d9-4bab-9ae4-b421640b26d2",
   "metadata": {},
   "source": [
    "##### 5.8 Word to Vector\n",
    "- Convert the preprocessed text into numerical representations (vectors) using techniques like TF-IDF, Word Embeddings, or Bag-of-Words.\n",
    "> We are using TF-IDF and BOW."
   ]
  },
  {
   "cell_type": "code",
   "execution_count": 38,
   "id": "67ff85d9-5a7b-4a4b-a53b-0b4adcc6e48f",
   "metadata": {},
   "outputs": [],
   "source": [
    "from sklearn.metrics import confusion_matrix\n",
    "from sklearn.metrics import accuracy_score, log_loss\n",
    "from sklearn.feature_extraction.text import TfidfVectorizer\n",
    "from sklearn.calibration import CalibratedClassifierCV\n",
    "from sklearn.model_selection import train_test_split\n",
    "from sklearn.model_selection import cross_val_score\n",
    "from sklearn.linear_model import SGDClassifier\n",
    "from mlxtend.classifier import StackingClassifier\n",
    "from collections import Counter\n",
    "from sklearn import model_selection\n",
    "from sklearn.linear_model import LogisticRegression\n",
    "from sklearn.metrics import precision_recall_curve, auc, roc_curve"
   ]
  },
  {
   "cell_type": "markdown",
   "id": "705adcc7-0c28-47ef-bc1a-a6957bf8b04b",
   "metadata": {},
   "source": [
    "- Before converting text to vectors, we should perform a train-test split on the dataset with an 80:20 ratio."
   ]
  },
  {
   "cell_type": "code",
   "execution_count": 39,
   "id": "c0ec0a8b-959f-4e06-a624-f07a69402f09",
   "metadata": {},
   "outputs": [],
   "source": [
    "X_train,X_test, y_train, y_test = train_test_split(df, y_true, stratify=y_true, test_size=0.2)"
   ]
  },
  {
   "cell_type": "markdown",
   "id": "7bff8299-69d0-4678-815a-15b02e0a1e14",
   "metadata": {},
   "source": [
    "- Distribution of DF in Train and Test:"
   ]
  },
  {
   "cell_type": "code",
   "execution_count": 40,
   "id": "5b5c0a5f-8dfc-4ec5-8a35-1e1b9e3702c0",
   "metadata": {},
   "outputs": [
    {
     "name": "stdout",
     "output_type": "stream",
     "text": [
      "Number of data points in train data : (39665, 4)\n",
      "Number of data points in test data : (9917, 4)\n"
     ]
    }
   ],
   "source": [
    "print(\"Number of data points in train data :\",X_train.shape)\n",
    "print(\"Number of data points in test data :\",X_test.shape)"
   ]
  },
  {
   "cell_type": "markdown",
   "id": "bc9cd569-642b-483c-9dff-9fb8ec3b3faa",
   "metadata": {},
   "source": [
    "- X_train is a dataset with 39,665 rows and 4 columns.\n",
    "- X_test is a dataset with 9917 rows and 4 columns."
   ]
  },
  {
   "cell_type": "code",
   "execution_count": 41,
   "id": "e14e6278-d907-46cc-a7ef-1ed16559716a",
   "metadata": {},
   "outputs": [
    {
     "name": "stdout",
     "output_type": "stream",
     "text": [
      "---------- Distribution of output variable in train data ----------\n",
      "Class 0:  0.4981217698222614 Class 1:  0.5018782301777386\n",
      "---------- Distribution of output variable in test data ----------\n",
      "Class 0:  0.5018654835131592 Class 1:  0.5018654835131592\n"
     ]
    }
   ],
   "source": [
    "print(\"-\"*10, \"Distribution of output variable in train data\", \"-\"*10)\n",
    "train_distr = Counter(y_train)\n",
    "train_len = len(y_train)\n",
    "print(\"Class 0: \",int(train_distr[0])/train_len,\"Class 1: \", int(train_distr[1])/train_len)\n",
    "print(\"-\"*10, \"Distribution of output variable in test data\", \"-\"*10)\n",
    "test_distr = Counter(y_test)\n",
    "test_len = len(y_test)\n",
    "print(\"Class 0: \",int(test_distr[1])/test_len, \"Class 1: \",int(test_distr[1])/test_len)"
   ]
  },
  {
   "cell_type": "markdown",
   "id": "a1a26495-d555-422b-a5af-81e3e53cfb5e",
   "metadata": {},
   "source": [
    "- The output shows the class distribution in the train and test datasets. Both datasets are almost perfectly balanced with approximately equal proportions of class 0 and class 1 instances. This is desirable for model training as it prevents bias towards any particular class."
   ]
  },
  {
   "cell_type": "markdown",
   "id": "8368f0ab-bbef-4697-88d2-2d05b9dc312d",
   "metadata": {},
   "source": [
    "##### 5.8.1 TF-IDF\n",
    "- TF-IDF assigns weights to words in a document based on their frequency within the document and across the entire dataset. It helps identify important words by considering both how often a word appears in a document and how rare it is across all documents."
   ]
  },
  {
   "cell_type": "code",
   "execution_count": 42,
   "id": "9ada7409-fc6c-4560-b04d-3e79f0a4c7e8",
   "metadata": {},
   "outputs": [
    {
     "data": {
      "text/plain": [
       "(39665, 64649)"
      ]
     },
     "execution_count": 42,
     "metadata": {},
     "output_type": "execute_result"
    }
   ],
   "source": [
    "vectorizer = TfidfVectorizer()\n",
    "X_train_tfidf = vectorizer.fit_transform(X_train['clean_review'])\n",
    "X_train_tfidf.get_shape()"
   ]
  },
  {
   "cell_type": "code",
   "execution_count": 43,
   "id": "02f23286-fdd6-451a-a6e1-66d6e6379f3f",
   "metadata": {},
   "outputs": [],
   "source": [
    "X_test_tfidf = vectorizer.transform(X_test['clean_review'])"
   ]
  },
  {
   "cell_type": "code",
   "execution_count": 44,
   "id": "4092d93d-8722-4253-a8a5-8f1b9cf51a04",
   "metadata": {},
   "outputs": [
    {
     "data": {
      "text/plain": [
       "(9917, 64649)"
      ]
     },
     "execution_count": 44,
     "metadata": {},
     "output_type": "execute_result"
    }
   ],
   "source": [
    "X_test_tfidf.get_shape()"
   ]
  },
  {
   "cell_type": "markdown",
   "id": "3e095de6-3db3-4b11-a92c-6024a27013eb",
   "metadata": {},
   "source": [
    "##### 5.8.2 Bag Of Words (BOW)\n",
    "- Bigram Bag of Words is like looking at pairs of words instead of single words. For example, in the sentence \"I love this movie\", the bigrams would be \"I love\", \"love this\", and \"this movie\". This helps capture phrases and word order, which can be useful for understanding the context of words."
   ]
  },
  {
   "cell_type": "code",
   "execution_count": 45,
   "id": "e5b84f25-d966-4ab9-be6e-f6a986a9d81f",
   "metadata": {},
   "outputs": [
    {
     "data": {
      "text/plain": [
       "(39665, 2163823)"
      ]
     },
     "execution_count": 45,
     "metadata": {},
     "output_type": "execute_result"
    }
   ],
   "source": [
    "#bow to bi-gram\n",
    "from sklearn.feature_extraction.text import CountVectorizer\n",
    "bow_vectorizer = CountVectorizer(ngram_range=(2,2))\n",
    "X_train_bow = bow_vectorizer.fit_transform(X_train['clean_review'])\n",
    "X_train_bow.get_shape()"
   ]
  },
  {
   "cell_type": "code",
   "execution_count": 46,
   "id": "2e57feef-7064-447f-be91-f406259a643c",
   "metadata": {},
   "outputs": [],
   "source": [
    "X_test_bow = bow_vectorizer.transform(X_test['clean_review'])"
   ]
  },
  {
   "cell_type": "code",
   "execution_count": 47,
   "id": "3d521676-4f22-4bef-9161-0db8bf4f9f2e",
   "metadata": {},
   "outputs": [
    {
     "data": {
      "text/plain": [
       "(9917, 2163823)"
      ]
     },
     "execution_count": 47,
     "metadata": {},
     "output_type": "execute_result"
    }
   ],
   "source": [
    "X_test_bow.get_shape()"
   ]
  },
  {
   "cell_type": "markdown",
   "id": "6f7cc4e9-c7aa-4f07-8916-80d277252862",
   "metadata": {},
   "source": [
    "- The output (9917, 2163823) means there are 9917 rows (documents) and 2163823 columns (features or Bi-Grams) in the matrix."
   ]
  },
  {
   "cell_type": "code",
   "execution_count": 48,
   "id": "1f55962c-dbde-4ca9-a039-bc7c7272db7a",
   "metadata": {},
   "outputs": [
    {
     "name": "stdout",
     "output_type": "stream",
     "text": [
      "<class 'scipy.sparse._csr.csr_matrix'>\n"
     ]
    }
   ],
   "source": [
    "print(type(X_test_bow))"
   ]
  },
  {
   "cell_type": "markdown",
   "id": "c4fc649d-a902-4f26-9b9b-e7bd2e7e776c",
   "metadata": {},
   "source": [
    "- Scipy sparse matrix is a data structure for storing large matrices with mostly zero values efficiently."
   ]
  },
  {
   "cell_type": "markdown",
   "id": "da317736-dac3-4dd3-83c5-43dadd682547",
   "metadata": {},
   "source": [
    "#### 6 Accuracy Measure\n",
    "##### 6.1 Confusion Matrix\n",
    "- A confusion matrix is a table showing correct and incorrect predictions. It helps evaluate a classification model's performance by comparing predicted labels with actual labels."
   ]
  },
  {
   "cell_type": "code",
   "execution_count": 49,
   "id": "c0b3be99-9d0c-4aea-a805-df20988b62fa",
   "metadata": {},
   "outputs": [],
   "source": [
    "def plot_confusion_matrix(test_y, predict_y):\n",
    "    C = confusion_matrix(test_y, predict_y)\n",
    "    \n",
    "    A =(((C.T)/(C.sum(axis=1))).T)\n",
    "    B =(C/C.sum(axis=0))\n",
    "    plt.figure(figsize=(20,4))\n",
    "    \n",
    "    labels = [0,1]\n",
    "    # representing A in heatmap format\n",
    "    cmap=sns.light_palette(\"blue\")\n",
    "    plt.subplot(1, 3, 1)\n",
    "    sns.heatmap(C, annot=True, cmap=cmap, fmt=\".3f\", xticklabels=labels, yticklabels=labels)\n",
    "    plt.xlabel('Predicted Class')\n",
    "    plt.ylabel('Original Class')\n",
    "    plt.title(\"Confusion matrix\")\n",
    "    \n",
    "    plt.subplot(1, 3, 2)\n",
    "    sns.heatmap(B, annot=True, cmap=cmap, fmt=\".3f\", xticklabels=labels, yticklabels=labels)\n",
    "    plt.xlabel('Predicted Class')\n",
    "    plt.ylabel('Original Class')\n",
    "    plt.title(\"Precision matrix\")\n",
    "    \n",
    "    plt.subplot(1, 3, 3)\n",
    "    sns.heatmap(A, annot=True, cmap=cmap, fmt=\".3f\", xticklabels=labels, yticklabels=labels)\n",
    "    plt.xlabel('Predicted Class')\n",
    "    plt.ylabel('Original Class')\n",
    "    plt.title(\"Recall matrix\")\n",
    "    \n",
    "    plt.show()"
   ]
  },
  {
   "cell_type": "markdown",
   "id": "cf5b6f02-9ea2-4060-80f0-1a273479c0e0",
   "metadata": {},
   "source": [
    "#### 7 Machine Learning Model\n",
    "##### 7.1 Random Model\n",
    "- Random Model predicts randomly between two classes, regardless of input data. Used as a baseline to compare model performance."
   ]
  },
  {
   "cell_type": "code",
   "execution_count": 50,
   "id": "031ae8c0-48a5-4f20-bdc7-66e4728a8ec6",
   "metadata": {},
   "outputs": [
    {
     "name": "stderr",
     "output_type": "stream",
     "text": [
      "C:\\Users\\hatyy\\anaconda3\\Lib\\site-packages\\sklearn\\metrics\\_classification.py:2910: FutureWarning: Setting the eps parameter is deprecated and will be removed in 1.5. Instead eps will always havea default value of `np.finfo(y_pred.dtype).eps`.\n",
      "  warnings.warn(\n"
     ]
    },
    {
     "name": "stdout",
     "output_type": "stream",
     "text": [
      "Log loss on Test Data using Random Model 0.8723986452212394\n"
     ]
    },
    {
     "data": {
      "image/png": "[encoded data removed]",
      "text/plain": [
       "<Figure size 2000x400 with 6 Axes>"
      ]
     },
     "metadata": {},
     "output_type": "display_data"
    }
   ],
   "source": [
    "predicted_y = np.zeros((test_len,2))\n",
    "for i in range(test_len):\n",
    "    rand_probs = np.random.rand(1,2)\n",
    "    predicted_y[i] = ((rand_probs/sum(sum(rand_probs)))[0])\n",
    "print(\"Log loss on Test Data using Random Model\",log_loss(y_test, predicted_y, eps=1e-15))\n",
    "\n",
    "predicted_y =np.argmax(predicted_y, axis=1)\n",
    "plot_confusion_matrix(y_test, predicted_y)"
   ]
  },
  {
   "cell_type": "markdown",
   "id": "5bc4d62c-8a66-426c-892e-851c44ef0fa7",
   "metadata": {},
   "source": [
    "##### 7.2 Logistic Regression\n",
    "- We are training a Logistic Regression model using TF-IDF features. Since the TF-IDF feature dimensionality is manageable, we can use standard Logistic Regression without needing optimizations like Stochastic Gradient Descent (SGD)."
   ]
  },
  {
   "cell_type": "code",
   "execution_count": 51,
   "id": "0db0ac0d-2271-4a61-aaa9-4cf24deb81a3",
   "metadata": {},
   "outputs": [
    {
     "name": "stdout",
     "output_type": "stream",
     "text": [
      "For values of alpha =  1e-05 The log loss is: 0.4272359528605472\n",
      "For values of alpha =  0.0001 The log loss is: 0.42761110268194735\n",
      "For values of alpha =  0.001 The log loss is: 0.423812686510489\n",
      "For values of alpha =  0.01 The log loss is: 0.38841543181471955\n",
      "For values of alpha =  0.1 The log loss is: 0.30913519984395704\n",
      "For values of alpha =  1 The log loss is: 0.26296936974548424\n",
      "For values of alpha =  10 The log loss is: 0.25781169000394333\n",
      "For values of alpha =  100 The log loss is: 0.27534715248211894\n",
      "For values of alpha =  1000 The log loss is: 0.28668884320552723\n"
     ]
    },
    {
     "data": {
      "image/png": "[encoded data removed]",
      "text/plain": [
       "<Figure size 640x480 with 1 Axes>"
      ]
     },
     "metadata": {},
     "output_type": "display_data"
    },
    {
     "name": "stdout",
     "output_type": "stream",
     "text": [
      "For values of best alpha =  10 The train log loss is: 0.1375434922390295\n",
      "For values of best alpha =  10 The test log loss is: 0.25781169000394333\n",
      "Total number of data points : 9917\n"
     ]
    },
    {
     "data": {
      "image/png": "[encoded data removed]",
      "text/plain": [
       "<Figure size 2000x400 with 6 Axes>"
      ]
     },
     "metadata": {},
     "output_type": "display_data"
    }
   ],
   "source": [
    "#logistic regression\n",
    "alpha = [10 ** x for x in range(-5, 4)]\n",
    "from sklearn.linear_model import LogisticRegression\n",
    "log_error_array=[]\n",
    "for i in alpha:\n",
    "    clf = LogisticRegression(C=i, penalty='l2',solver='liblinear',random_state=42,max_iter=1000)\n",
    "    clf.fit(X_train_tfidf, y_train)\n",
    "    sig_clf = CalibratedClassifierCV(clf, method=\"sigmoid\")\n",
    "    sig_clf.fit(X_train_tfidf, y_train)\n",
    "    predict_y = sig_clf.predict_proba(X_test_tfidf)\n",
    "    log_error_array.append(log_loss(y_test, predict_y, labels=clf.classes_,))\n",
    "    print('For values of alpha = ', i, \"The log loss is:\",log_loss(y_test, predict_y, labels=clf.classes_))\n",
    "fig, ax = plt.subplots()\n",
    "ax.plot(alpha, log_error_array,c='g')\n",
    "for i, txt in enumerate(np.round(log_error_array,3)):\n",
    "    ax.annotate((alpha[i],np.round(txt,3)), (alpha[i],log_error_array[i]))\n",
    "plt.grid()\n",
    "plt.title(\"Cross Validation Error for each alpha\")\n",
    "plt.xlabel(\"Alpha i's\")\n",
    "plt.ylabel(\"Error measure\")\n",
    "plt.show()\n",
    "\n",
    "best_alpha = np.argmin(log_error_array)\n",
    "clf = LogisticRegression(C=alpha[best_alpha], penalty='l2', solver='liblinear', random_state=42,max_iter=1000)\n",
    "clf.fit(X_train_tfidf, y_train)\n",
    "sig_clf = CalibratedClassifierCV(clf, method=\"sigmoid\")\n",
    "sig_clf.fit(X_train_tfidf, y_train)\n",
    "\n",
    "predict_y = sig_clf.predict_proba(X_train_tfidf)\n",
    "print('For values of best alpha = ', alpha[best_alpha], \"The train log loss is:\",log_loss(y_train, predict_y, labels=clf.classes_))\n",
    "predict_y = sig_clf.predict_proba(X_test_tfidf)\n",
    "print('For values of best alpha = ', alpha[best_alpha], \"The test log loss is:\",log_loss(y_test, predict_y, labels=clf.classes_))\n",
    "predicted_y =np.argmax(predict_y,axis=1)\n",
    "print(\"Total number of data points :\", len(predicted_y))\n",
    "plot_confusion_matrix(y_test, predicted_y)"
   ]
  },
  {
   "cell_type": "markdown",
   "id": "e5fe06f4-9f82-4a68-8511-57b4fcba4a8b",
   "metadata": {},
   "source": [
    "- The model was trained with an alpha value of 10. It achieved a training log loss of 0.1375 and a test log loss of 0.2578. The difference between these values suggests potential overfitting as the model performs better on the training data than on unseen data."
   ]
  },
  {
   "cell_type": "markdown",
   "id": "cd319e20-6d18-4087-9756-3c31d332696a",
   "metadata": {},
   "source": [
    "#### 7.2.1 Logistic Regression with Best Fit:\n",
    "- While a model with a slightly higher misclassification rate might be preferable to an overfitted one, prioritizing a model where training and test log loss values are closer is generally recommended. This indicates better generalization and a reduced risk of overfitting."
   ]
  },
  {
   "cell_type": "code",
   "execution_count": 52,
   "id": "389a9fcd-9a41-45ee-bbaf-bf14f2dca0d7",
   "metadata": {},
   "outputs": [
    {
     "name": "stdout",
     "output_type": "stream",
     "text": [
      "For values of alpha =  0.1 The log loss is: 0.30913519984395704\n"
     ]
    },
    {
     "data": {
      "image/png": "[encoded data removed]",
      "text/plain": [
       "<Figure size 640x480 with 1 Axes>"
      ]
     },
     "metadata": {},
     "output_type": "display_data"
    },
    {
     "name": "stdout",
     "output_type": "stream",
     "text": [
      "For values of best alpha =  0.1 The train log loss is: 0.2895611057239211\n",
      "For values of best alpha =  0.1 The test log loss is: 0.30913519984395704\n",
      "Total number of data points : 9917\n"
     ]
    },
    {
     "data": {
      "image/png": "[encoded data removed]",
      "text/plain": [
       "<Figure size 2000x400 with 6 Axes>"
      ]
     },
     "metadata": {},
     "output_type": "display_data"
    }
   ],
   "source": [
    "alpha = [0.1]\n",
    "from sklearn.linear_model import LogisticRegression\n",
    "log_error_array=[]\n",
    "for i in alpha:\n",
    "    clf = LogisticRegression(C=i, penalty='l2',solver='liblinear',random_state=42,max_iter=1000)\n",
    "    clf.fit(X_train_tfidf, y_train)\n",
    "    sig_clf = CalibratedClassifierCV(clf, method=\"sigmoid\")\n",
    "    sig_clf.fit(X_train_tfidf, y_train)\n",
    "    predict_y = sig_clf.predict_proba(X_test_tfidf)\n",
    "    log_error_array.append(log_loss(y_test, predict_y, labels=clf.classes_))\n",
    "    print('For values of alpha = ', i, \"The log loss is:\",log_loss(y_test, predict_y, labels=clf.classes_))\n",
    "fig, ax = plt.subplots()\n",
    "ax.plot(alpha, log_error_array,c='g')\n",
    "for i, txt in enumerate(np.round(log_error_array,3)):\n",
    "    ax.annotate((alpha[i],np.round(txt,3)), (alpha[i],log_error_array[i]))\n",
    "plt.grid()\n",
    "plt.title(\"Cross Validation Error for each alpha\")\n",
    "plt.xlabel(\"Alpha i's\")\n",
    "plt.ylabel(\"Error measure\")\n",
    "plt.show()\n",
    "\n",
    "best_alpha = np.argmin(log_error_array)\n",
    "clf = LogisticRegression(C=alpha[best_alpha], penalty='l2', solver='liblinear', random_state=42,max_iter=1000)\n",
    "clf.fit(X_train_tfidf, y_train)\n",
    "sig_clf = CalibratedClassifierCV(clf, method=\"sigmoid\")\n",
    "sig_clf.fit(X_train_tfidf, y_train)\n",
    "\n",
    "predict_y = sig_clf.predict_proba(X_train_tfidf)\n",
    "print('For values of best alpha = ', alpha[best_alpha], \"The train log loss is:\",log_loss(y_train, predict_y, labels=clf.classes_))\n",
    "predict_y = sig_clf.predict_proba(X_test_tfidf)\n",
    "print('For values of best alpha = ', alpha[best_alpha], \"The test log loss is:\",log_loss(y_test, predict_y, labels=clf.classes_))\n",
    "predicted_y =np.argmax(predict_y,axis=1)\n",
    "print(\"Total number of data points :\", len(predicted_y))\n",
    "plot_confusion_matrix(y_test, predicted_y)"
   ]
  },
  {
   "cell_type": "markdown",
   "id": "7112cd17-d552-4dd5-ad07-308404f0b714",
   "metadata": {},
   "source": [
    "- The model's performance is similar on both training and testing data. While there's a small difference in the scores, it suggests the model is generalizing reasonably well. This means it's likely to perform similarly on new, unseen data."
   ]
  },
  {
   "cell_type": "markdown",
   "id": "d67f0c14-6cb1-41ed-b8b9-10e7f9b9c65d",
   "metadata": {},
   "source": [
    "##### 7.2.1 SGD Classifier With Logistic Regression Parameter\n",
    "- Due to the high dimensionality of Bag-of-Words features, we opt for a Stochastic Gradient Descent (SGD) classifier with logistic regression loss for training our model. This approach is more computationally efficient compared to standard logistic regression for large datasets."
   ]
  },
  {
   "cell_type": "code",
   "execution_count": 53,
   "id": "2209a614-729b-4514-87e4-0e20ee70227b",
   "metadata": {},
   "outputs": [
    {
     "name": "stdout",
     "output_type": "stream",
     "text": [
      "For values of alpha =  1e-05 The log loss is: 0.3105479313810846\n",
      "For values of alpha =  0.0001 The log loss is: 0.30428898053111536\n",
      "For values of alpha =  0.001 The log loss is: 0.32634155463943243\n",
      "For values of alpha =  0.01 The log loss is: 0.3949214852869194\n",
      "For values of alpha =  0.1 The log loss is: 0.46920445417201584\n",
      "For values of alpha =  1 The log loss is: 0.5038784731546301\n",
      "For values of alpha =  10 The log loss is: 0.5101255491441109\n"
     ]
    },
    {
     "data": {
      "image/png": "[encoded data removed]",
      "text/plain": [
       "<Figure size 640x480 with 1 Axes>"
      ]
     },
     "metadata": {},
     "output_type": "display_data"
    },
    {
     "name": "stdout",
     "output_type": "stream",
     "text": [
      "For values of best alpha =  0.0001 The train log loss is: 0.06905665977298953\n",
      "For values of best alpha =  0.0001 The test log loss is: 0.30428898053111536\n",
      "Total number of data points : 9917\n"
     ]
    },
    {
     "data": {
      "image/png": "[encoded data removed]",
      "text/plain": [
       "<Figure size 2000x400 with 6 Axes>"
      ]
     },
     "metadata": {},
     "output_type": "display_data"
    }
   ],
   "source": [
    "alpha = [10 ** x for x in range(-5, 2)] # hyperparam for SGD classifier.\n",
    "log_error_array=[]\n",
    "for i in alpha:\n",
    "    clf = SGDClassifier(alpha=i, penalty='l2', loss='log_loss', random_state=42,max_iter=1000)\n",
    "    clf.fit(X_train_bow, y_train)\n",
    "    sig_clf = CalibratedClassifierCV(clf, method=\"sigmoid\")\n",
    "    sig_clf.fit(X_train_bow, y_train)\n",
    "    predict_y = sig_clf.predict_proba(X_test_bow)\n",
    "    log_error_array.append(log_loss(y_test, predict_y, labels=clf.classes_))\n",
    "    print('For values of alpha = ', i, \"The log loss is:\",log_loss(y_test, predict_y, labels=clf.classes_))\n",
    "fig, ax = plt.subplots()\n",
    "ax.plot(alpha, log_error_array,c='g')\n",
    "for i, txt in enumerate(np.round(log_error_array,3)):\n",
    "    ax.annotate((alpha[i],np.round(txt,3)), (alpha[i],log_error_array[i]))\n",
    "plt.grid()\n",
    "plt.title(\"Cross Validation Error for each alpha\")\n",
    "plt.xlabel(\"Alpha i's\")\n",
    "plt.ylabel(\"Error measure\")\n",
    "plt.show()\n",
    "\n",
    "best_alpha = np.argmin(log_error_array)\n",
    "clf = SGDClassifier(alpha=alpha[best_alpha], penalty='l2', loss='log_loss', random_state=42,max_iter=1000)\n",
    "clf.fit(X_train_bow, y_train)\n",
    "sig_clf = CalibratedClassifierCV(clf, method=\"sigmoid\")\n",
    "sig_clf.fit(X_train_bow, y_train)\n",
    "\n",
    "predict_y = sig_clf.predict_proba(X_train_bow)\n",
    "print('For values of best alpha = ', alpha[best_alpha], \"The train log loss is:\",log_loss(y_train, predict_y, labels=clf.classes_))\n",
    "predict_y = sig_clf.predict_proba(X_test_bow)\n",
    "print('For values of best alpha = ', alpha[best_alpha], \"The test log loss is:\",log_loss(y_test, predict_y, labels=clf.classes_))\n",
    "predicted_y =np.argmax(predict_y,axis=1)\n",
    "print(\"Total number of data points :\", len(predicted_y))\n",
    "plot_confusion_matrix(y_test, predicted_y)\n"
   ]
  },
  {
   "cell_type": "markdown",
   "id": "2f54c4e0-4f52-4a11-be9a-5a325b882e21",
   "metadata": {},
   "source": [
    "- The model was trained with an optimal alpha value of 0.0001. It achieved a low training log loss, indicating good fit to the training data. However, the test log loss is significantly higher, suggesting potential overfitting."
   ]
  },
  {
   "cell_type": "markdown",
   "id": "94cb2a39-918a-45d2-9921-1147c129b498",
   "metadata": {},
   "source": [
    "#### 8 Conclusions:\n",
    "- A Logistic Regression model trained on TF-IDF features with an alpha value of 10 produced the best confusion matrix. However, the model exhibits significant overfitting, as evidenced by the substantial gap between its training and test log loss values.\n",
    "- Despite a slightly higher misclassification rate, the model trained with alpha = 0.1 demonstrates a smaller gap between training and test log loss. This suggests a balance between underfitting and overfitting, indicating a potentially optimal model.\n",
    "- An SGD classifier trained on Bi-gram Bag-of-Words features with logistic regression parameters exhibits significant overfitting. Despite a low misclassification rate, the substantial gap between training and test log loss indicates that the model has learned the training data too closely and is likely to perform poorly on unseen data"
   ]
  },
  {
   "cell_type": "code",
   "execution_count": null,
   "id": "ecbd8f44-7112-409b-beb5-73cdc3395f23",
   "metadata": {},
   "outputs": [],
   "source": []
  }
 ],
 "metadata": {
  "kernelspec": {
   "display_name": "Python 3 (ipykernel)",
   "language": "python",
   "name": "python3"
  },
  "language_info": {
   "codemirror_mode": {
    "name": "ipython",
    "version": 3
   },
   "file_extension": ".py",
   "mimetype": "text/x-python",
   "name": "python",
   "nbconvert_exporter": "python",
   "pygments_lexer": "ipython3",
   "version": "3.11.5"
  }
 },
 "nbformat": 4,
 "nbformat_minor": 5
}
